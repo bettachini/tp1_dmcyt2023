{
  "nbformat": 4,
  "nbformat_minor": 0,
  "metadata": {
    "colab": {
      "provenance": []
    },
    "kernelspec": {
      "name": "python3",
      "display_name": "Python 3"
    },
    "language_info": {
      "name": "python"
    }
  },
  "cells": [
    {
      "cell_type": "markdown",
      "source": [
        "## Clonamos repositorio de trabajo"
      ],
      "metadata": {
        "id": "1z95f5yJCRec"
      }
    },
    {
      "cell_type": "code",
      "execution_count": 1,
      "metadata": {
        "colab": {
          "base_uri": "https://localhost:8080/"
        },
        "id": "idl1wlb0AET2",
        "outputId": "8ab7064c-c314-4af1-a138-041e1cc6834d"
      },
      "outputs": [
        {
          "output_type": "stream",
          "name": "stdout",
          "text": [
            "Cloning into 'tp1_dmcyt2023'...\n",
            "remote: Enumerating objects: 74992, done.\u001b[K\n",
            "remote: Counting objects: 100% (278/278), done.\u001b[K\n",
            "remote: Compressing objects: 100% (269/269), done.\u001b[K\n",
            "remote: Total 74992 (delta 9), reused 274 (delta 6), pack-reused 74714\u001b[K\n",
            "Receiving objects: 100% (74992/74992), 227.09 MiB | 18.88 MiB/s, done.\n",
            "Resolving deltas: 100% (13/13), done.\n",
            "Updating files: 100% (75250/75250), done.\n"
          ]
        }
      ],
      "source": [
        "!git clone https://github.com/bettachini/tp1_dmcyt2023.git"
      ]
    },
    {
      "cell_type": "markdown",
      "source": [
        "## Importamos librerías últiles"
      ],
      "metadata": {
        "id": "uMMOEAD3CYJa"
      }
    },
    {
      "cell_type": "code",
      "source": [
        "import os\n",
        "import random\n",
        "from shutil import copyfile\n",
        "import csv"
      ],
      "metadata": {
        "id": "OXdN9birBx4d"
      },
      "execution_count": 2,
      "outputs": []
    },
    {
      "cell_type": "markdown",
      "source": [
        "## Cargamos datos"
      ],
      "metadata": {
        "id": "jxo9QMvoCNCb"
      }
    },
    {
      "cell_type": "markdown",
      "source": [
        "### Guardamos en una lista las clases"
      ],
      "metadata": {
        "id": "JUGv08H9CjgQ"
      }
    },
    {
      "cell_type": "code",
      "source": [
        "dataset_path = \"/content/tp1_dmcyt2023/datasets/Rice_Image_Dataset\"\n",
        "# Tomado de https://www.kaggle.com/code/gustavo9898/pytorch-rice-image-classification\n",
        "classes = []\n",
        "for folder in os.listdir(dataset_path):\n",
        "    folder_path = os.path.join(dataset_path, folder)\n",
        "    if os.path.isdir(folder_path):\n",
        "        classes.append(folder)\n",
        "print(classes)"
      ],
      "metadata": {
        "colab": {
          "base_uri": "https://localhost:8080/"
        },
        "id": "Rn5c366vBIf7",
        "outputId": "ee6aa88b-e204-46c7-91d6-4ab602e4b4c1"
      },
      "execution_count": 3,
      "outputs": [
        {
          "output_type": "stream",
          "name": "stdout",
          "text": [
            "['Jasmine', 'Karacadag', 'Arborio', 'Ipsala', 'Basmati']\n"
          ]
        }
      ]
    },
    {
      "cell_type": "markdown",
      "source": [
        "### Generemos la muestra aleatoria por clase"
      ],
      "metadata": {
        "id": "euUhr_qZHNG6"
      }
    },
    {
      "cell_type": "code",
      "source": [
        "# Defino diccionario donde guardaré para cada clase una lista con el path de cada imagen\n",
        "classes_path = {}\n",
        "\n",
        "# Itero por clase y guardo los path en el diccionario\n",
        "for clase in classes:\n",
        "  # Defino el path de cada clase\n",
        "  image_path = f\"/content/tp1_dmcyt2023/datasets/Rice_Image_Dataset/{clase}/\"\n",
        "  path = sorted([\n",
        "    os.path.join(image_path, file)\n",
        "    for file in os.listdir(image_path)\n",
        "    if file.endswith('.jpg')\n",
        "    ])\n",
        "  classes_path[clase] = path"
      ],
      "metadata": {
        "id": "To0zR2IZDIhf"
      },
      "execution_count": 4,
      "outputs": []
    },
    {
      "cell_type": "code",
      "source": [
        "# Cantidad total de clases (5)\n",
        "len(classes_path)"
      ],
      "metadata": {
        "colab": {
          "base_uri": "https://localhost:8080/"
        },
        "id": "wzGC9jPME1j0",
        "outputId": "87580693-abe1-416f-9d3c-73dc79de9d0e"
      },
      "execution_count": 5,
      "outputs": [
        {
          "output_type": "execute_result",
          "data": {
            "text/plain": [
              "5"
            ]
          },
          "metadata": {},
          "execution_count": 5
        }
      ]
    },
    {
      "cell_type": "code",
      "source": [
        "# Ejemplo de lo guardado\n",
        "classes_path['Arborio'][0]"
      ],
      "metadata": {
        "colab": {
          "base_uri": "https://localhost:8080/",
          "height": 36
        },
        "id": "vk7cT0yxE4Md",
        "outputId": "cc32c2f4-d754-4e35-eea8-e974082a9720"
      },
      "execution_count": 6,
      "outputs": [
        {
          "output_type": "execute_result",
          "data": {
            "text/plain": [
              "'/content/tp1_dmcyt2023/datasets/Rice_Image_Dataset/Arborio/Arborio (1).jpg'"
            ],
            "application/vnd.google.colaboratory.intrinsic+json": {
              "type": "string"
            }
          },
          "metadata": {},
          "execution_count": 6
        }
      ]
    },
    {
      "cell_type": "markdown",
      "source": [
        "### Genero submuestreo"
      ],
      "metadata": {
        "id": "Z99i-dFxIaKu"
      }
    },
    {
      "cell_type": "code",
      "source": [
        "# Genero una muestra aleatoria con 1000 imagenes por cada clase y guardo en un nuevo diccionario\n",
        "classes_path_random_sample = {}\n",
        "\n",
        "# Defino semilla\n",
        "random.seed(8)\n",
        "\n",
        "# Obtener una muestra aleatoria de 1000 rutas de imágenes para cada clase\n",
        "for clase, path in classes_path.items():\n",
        "  print(f\"Cantidad de imagenes de la clase {clase}: {len(path)}\")\n",
        "  if len(path) >= 1000:\n",
        "      classes_path_random_sample[clase] = random.sample(path, 1000)\n",
        "  else:\n",
        "      classes_path_random_sample[clase] = path"
      ],
      "metadata": {
        "colab": {
          "base_uri": "https://localhost:8080/"
        },
        "id": "zI1aah9iE9Cx",
        "outputId": "a76267d6-b418-4495-da38-3183f5133b3b"
      },
      "execution_count": 7,
      "outputs": [
        {
          "output_type": "stream",
          "name": "stdout",
          "text": [
            "Cantidad de imagenes de la clase Jasmine: 15000\n",
            "Cantidad de imagenes de la clase Karacadag: 15000\n",
            "Cantidad de imagenes de la clase Arborio: 15000\n",
            "Cantidad de imagenes de la clase Ipsala: 15000\n",
            "Cantidad de imagenes de la clase Basmati: 15000\n"
          ]
        }
      ]
    },
    {
      "cell_type": "code",
      "source": [
        "# Cantidad total de clases (5)\n",
        "len(classes_path_random_sample)"
      ],
      "metadata": {
        "colab": {
          "base_uri": "https://localhost:8080/"
        },
        "id": "qIt6dxH3JYUF",
        "outputId": "973ab661-3eb2-4cd6-8499-e43975e5fc53"
      },
      "execution_count": 8,
      "outputs": [
        {
          "output_type": "execute_result",
          "data": {
            "text/plain": [
              "5"
            ]
          },
          "metadata": {},
          "execution_count": 8
        }
      ]
    },
    {
      "cell_type": "code",
      "source": [
        "# Cantidad de imagenes por clases\n",
        "len(classes_path_random_sample['Arborio'])"
      ],
      "metadata": {
        "colab": {
          "base_uri": "https://localhost:8080/"
        },
        "id": "XmfFlGf7JYcA",
        "outputId": "e5dae57e-89e8-4201-97b5-6840e4357df5"
      },
      "execution_count": 9,
      "outputs": [
        {
          "output_type": "execute_result",
          "data": {
            "text/plain": [
              "1000"
            ]
          },
          "metadata": {},
          "execution_count": 9
        }
      ]
    },
    {
      "cell_type": "markdown",
      "source": [
        "### Guardamos la nueva muestra en un único directorio"
      ],
      "metadata": {
        "id": "2tSX5jU9Jqtn"
      }
    },
    {
      "cell_type": "code",
      "source": [
        "# Creamos el directorio nuevo\n",
        "path_nuevo_directorio = os.path.join(dataset_path, \"ramdon_sample_rice_image\" )\n",
        "os.makedirs(path_nuevo_directorio, exist_ok=True)"
      ],
      "metadata": {
        "id": "tb8H2hv_JhUZ"
      },
      "execution_count": 10,
      "outputs": []
    },
    {
      "cell_type": "code",
      "source": [
        "# Itero a través del diccionario muestra_aleatoria y copia las imágenes a la nueva ubicación\n",
        "for clase, paths in classes_path_random_sample.items():\n",
        "    for path in paths:\n",
        "        copyfile(path, os.path.join(path_nuevo_directorio, os.path.basename(path)))"
      ],
      "metadata": {
        "id": "T6LcJ_MDKh7-"
      },
      "execution_count": 11,
      "outputs": []
    },
    {
      "cell_type": "code",
      "source": [
        "# Guardo nombre de imagen y label en un .txt\n",
        "with open(path_nuevo_directorio + '/ramdon_sample_rice_labels.txt', 'w') as dataset_file:\n",
        "\n",
        "  dataset_file.write('file,label\\n')\n",
        "\n",
        "  for clase, paths in classes_path_random_sample.items():\n",
        "    for path in paths:\n",
        "      archivo = os.path.basename(path)\n",
        "      dataset_file.write(f'{archivo}, {clase}\\n')"
      ],
      "metadata": {
        "id": "TXStN4rGMqoI"
      },
      "execution_count": 12,
      "outputs": []
    },
    {
      "cell_type": "code",
      "source": [
        "# Guardo nombre de imagen y label en un .csv\n",
        "csv_file_path = os.path.join(path_nuevo_directorio, 'ramdon_sample_rice_labels.csv')\n",
        "\n",
        "with open(csv_file_path, mode='w', newline='') as dataset_file:\n",
        "    csv_writer = csv.writer(dataset_file)\n",
        "\n",
        "    csv_writer.writerow(['file', 'label'])\n",
        "\n",
        "    for clase, paths in classes_path_random_sample.items():\n",
        "        for path in paths:\n",
        "            archivo = os.path.basename(path)\n",
        "            csv_writer.writerow([archivo, clase])"
      ],
      "metadata": {
        "id": "Jul_xbPzPPze"
      },
      "execution_count": 13,
      "outputs": []
    }
  ]
}