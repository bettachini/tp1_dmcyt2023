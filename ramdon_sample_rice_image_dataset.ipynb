{
  "cells": [
    {
      "cell_type": "markdown",
      "metadata": {
        "id": "1z95f5yJCRec"
      },
      "source": [
        "## Clonamos repositorio de trabajo"
      ]
    },
    {
      "cell_type": "code",
      "execution_count": 16,
      "metadata": {
        "colab": {
          "base_uri": "https://localhost:8080/"
        },
        "id": "idl1wlb0AET2",
        "outputId": "8ab7064c-c314-4af1-a138-041e1cc6834d"
      },
      "outputs": [],
      "source": [
        "# Esto desde el colab\n",
        "# !git clone https://github.com/bettachini/tp1_dmcyt2023.git"
      ]
    },
    {
      "cell_type": "markdown",
      "metadata": {
        "id": "uMMOEAD3CYJa"
      },
      "source": [
        "## Importamos librerías últiles"
      ]
    },
    {
      "cell_type": "code",
      "execution_count": 4,
      "metadata": {
        "id": "OXdN9birBx4d"
      },
      "outputs": [],
      "source": [
        "import os\n",
        "import random\n",
        "from shutil import copyfile\n",
        "import csv"
      ]
    },
    {
      "cell_type": "markdown",
      "metadata": {
        "id": "jxo9QMvoCNCb"
      },
      "source": [
        "## Cargamos datos"
      ]
    },
    {
      "cell_type": "markdown",
      "metadata": {
        "id": "JUGv08H9CjgQ"
      },
      "source": [
        "### Guardamos en una lista las clases"
      ]
    },
    {
      "cell_type": "code",
      "execution_count": 5,
      "metadata": {
        "colab": {
          "base_uri": "https://localhost:8080/"
        },
        "id": "Rn5c366vBIf7",
        "outputId": "ee6aa88b-e204-46c7-91d6-4ab602e4b4c1"
      },
      "outputs": [
        {
          "name": "stdout",
          "output_type": "stream",
          "text": [
            "['Arborio', 'Basmati', 'Ipsala', 'Jasmine', 'Karacadag']\n"
          ]
        }
      ],
      "source": [
        "# Colab dataset_path = \"/content/tp1_dmcyt2023/datasets/Rice_Image_Dataset\"\n",
        "# Local \n",
        "dataset_path = \"C:/Users/vanes/Documents/UBA/2do_cuatrimestre/DMCyT/TP/tp1_dmcyt2023/datasets/Rice_Image_Dataset\"\n",
        "# Tomado de https://www.kaggle.com/code/gustavo9898/pytorch-rice-image-classification \n",
        "classes = []\n",
        "for folder in os.listdir(dataset_path):\n",
        "    folder_path = os.path.join(dataset_path, folder)\n",
        "    if os.path.isdir(folder_path):\n",
        "        classes.append(folder)\n",
        "print(classes)"
      ]
    },
    {
      "cell_type": "markdown",
      "metadata": {
        "id": "euUhr_qZHNG6"
      },
      "source": [
        "### Generemos la muestra aleatoria por clase"
      ]
    },
    {
      "cell_type": "code",
      "execution_count": 6,
      "metadata": {
        "id": "To0zR2IZDIhf"
      },
      "outputs": [],
      "source": [
        "# Defino diccionario donde guardaré para cada clase una lista con el path de cada imagen\n",
        "classes_path = {}\n",
        "\n",
        "# Itero por clase y guardo los path en el diccionario\n",
        "for clase in classes:\n",
        "  # Defino el path de cada clase\n",
        "  image_path = os.path.join(dataset_path, f\"{clase}\")\n",
        "  path = sorted([\n",
        "    os.path.join(image_path, file)\n",
        "    for file in os.listdir(image_path)\n",
        "    if file.endswith('.jpg')\n",
        "    ])\n",
        "  classes_path[clase] = path"
      ]
    },
    {
      "cell_type": "code",
      "execution_count": 7,
      "metadata": {
        "colab": {
          "base_uri": "https://localhost:8080/"
        },
        "id": "wzGC9jPME1j0",
        "outputId": "87580693-abe1-416f-9d3c-73dc79de9d0e"
      },
      "outputs": [
        {
          "data": {
            "text/plain": [
              "5"
            ]
          },
          "execution_count": 7,
          "metadata": {},
          "output_type": "execute_result"
        }
      ],
      "source": [
        "# Cantidad total de clases (5)\n",
        "len(classes_path)"
      ]
    },
    {
      "cell_type": "code",
      "execution_count": 8,
      "metadata": {
        "colab": {
          "base_uri": "https://localhost:8080/",
          "height": 36
        },
        "id": "vk7cT0yxE4Md",
        "outputId": "cc32c2f4-d754-4e35-eea8-e974082a9720"
      },
      "outputs": [
        {
          "data": {
            "text/plain": [
              "'C:/Users/vanes/Documents/UBA/2do_cuatrimestre/DMCyT/TP/tp1_dmcyt2023/datasets/Rice_Image_Dataset\\\\Arborio\\\\Arborio (1).jpg'"
            ]
          },
          "execution_count": 8,
          "metadata": {},
          "output_type": "execute_result"
        }
      ],
      "source": [
        "# Ejemplo de lo guardado\n",
        "classes_path['Arborio'][0]"
      ]
    },
    {
      "cell_type": "markdown",
      "metadata": {
        "id": "Z99i-dFxIaKu"
      },
      "source": [
        "### Genero submuestreo"
      ]
    },
    {
      "cell_type": "code",
      "execution_count": 9,
      "metadata": {
        "colab": {
          "base_uri": "https://localhost:8080/"
        },
        "id": "zI1aah9iE9Cx",
        "outputId": "a76267d6-b418-4495-da38-3183f5133b3b"
      },
      "outputs": [
        {
          "name": "stdout",
          "output_type": "stream",
          "text": [
            "Cantidad de imagenes de la clase Arborio: 15000\n",
            "Cantidad de imagenes de la clase Basmati: 15000\n",
            "Cantidad de imagenes de la clase Ipsala: 15000\n",
            "Cantidad de imagenes de la clase Jasmine: 15000\n",
            "Cantidad de imagenes de la clase Karacadag: 15000\n"
          ]
        }
      ],
      "source": [
        "# Genero una muestra aleatoria con 1000 imagenes por cada clase y guardo en un nuevo diccionario\n",
        "classes_path_random_sample = {}\n",
        "\n",
        "# Defino semilla\n",
        "random.seed(8)\n",
        "\n",
        "# Obtener una muestra aleatoria de 1000 rutas de imágenes para cada clase\n",
        "for clase, path in classes_path.items():\n",
        "  print(f\"Cantidad de imagenes de la clase {clase}: {len(path)}\")\n",
        "  if len(path) >= 1000:\n",
        "      classes_path_random_sample[clase] = random.sample(path, 1000)\n",
        "  else:\n",
        "      classes_path_random_sample[clase] = path"
      ]
    },
    {
      "cell_type": "code",
      "execution_count": 10,
      "metadata": {
        "colab": {
          "base_uri": "https://localhost:8080/"
        },
        "id": "qIt6dxH3JYUF",
        "outputId": "973ab661-3eb2-4cd6-8499-e43975e5fc53"
      },
      "outputs": [
        {
          "data": {
            "text/plain": [
              "5"
            ]
          },
          "execution_count": 10,
          "metadata": {},
          "output_type": "execute_result"
        }
      ],
      "source": [
        "# Cantidad total de clases (5)\n",
        "len(classes_path_random_sample)"
      ]
    },
    {
      "cell_type": "code",
      "execution_count": 11,
      "metadata": {
        "colab": {
          "base_uri": "https://localhost:8080/"
        },
        "id": "XmfFlGf7JYcA",
        "outputId": "e5dae57e-89e8-4201-97b5-6840e4357df5"
      },
      "outputs": [
        {
          "data": {
            "text/plain": [
              "1000"
            ]
          },
          "execution_count": 11,
          "metadata": {},
          "output_type": "execute_result"
        }
      ],
      "source": [
        "# Cantidad de imagenes por clases\n",
        "len(classes_path_random_sample['Arborio'])"
      ]
    },
    {
      "cell_type": "markdown",
      "metadata": {
        "id": "2tSX5jU9Jqtn"
      },
      "source": [
        "### Guardamos la nueva muestra en un único directorio"
      ]
    },
    {
      "cell_type": "code",
      "execution_count": 12,
      "metadata": {
        "id": "tb8H2hv_JhUZ"
      },
      "outputs": [],
      "source": [
        "# Creamos el directorio nuevo\n",
        "path_nuevo_directorio = os.path.join(dataset_path, \"ramdon_sample_rice_image\" )\n",
        "os.makedirs(path_nuevo_directorio, exist_ok=True)"
      ]
    },
    {
      "cell_type": "code",
      "execution_count": 13,
      "metadata": {
        "id": "T6LcJ_MDKh7-"
      },
      "outputs": [],
      "source": [
        "# Itero a través del diccionario muestra_aleatoria y copia las imágenes a la nueva ubicación\n",
        "for clase, paths in classes_path_random_sample.items():\n",
        "    for path in paths:\n",
        "        copyfile(path, os.path.join(path_nuevo_directorio, os.path.basename(path)))"
      ]
    },
    {
      "cell_type": "code",
      "execution_count": 14,
      "metadata": {
        "id": "TXStN4rGMqoI"
      },
      "outputs": [],
      "source": [
        "# Guardo nombre de imagen y label en un .txt\n",
        "with open(path_nuevo_directorio + '/ramdon_sample_rice_labels.txt', 'w') as dataset_file:\n",
        "\n",
        "  dataset_file.write('file,label\\n')\n",
        "\n",
        "  for clase, paths in classes_path_random_sample.items():\n",
        "    for path in paths:\n",
        "      archivo = os.path.basename(path)\n",
        "      dataset_file.write(f'{archivo}, {clase}\\n')"
      ]
    },
    {
      "cell_type": "code",
      "execution_count": 15,
      "metadata": {
        "id": "Jul_xbPzPPze"
      },
      "outputs": [],
      "source": [
        "# Guardo nombre de imagen y label en un .csv\n",
        "csv_file_path = os.path.join(path_nuevo_directorio, 'ramdon_sample_rice_labels.csv')\n",
        "\n",
        "with open(csv_file_path, mode='w', newline='') as dataset_file:\n",
        "    csv_writer = csv.writer(dataset_file)\n",
        "\n",
        "    csv_writer.writerow(['file', 'label'])\n",
        "\n",
        "    for clase, paths in classes_path_random_sample.items():\n",
        "        for path in paths:\n",
        "            archivo = os.path.basename(path)\n",
        "            csv_writer.writerow([archivo, clase])"
      ]
    },
    {
      "cell_type": "code",
      "execution_count": null,
      "metadata": {},
      "outputs": [],
      "source": []
    }
  ],
  "metadata": {
    "colab": {
      "provenance": []
    },
    "kernelspec": {
      "display_name": "Python 3",
      "name": "python3"
    },
    "language_info": {
      "codemirror_mode": {
        "name": "ipython",
        "version": 3
      },
      "file_extension": ".py",
      "mimetype": "text/x-python",
      "name": "python",
      "nbconvert_exporter": "python",
      "pygments_lexer": "ipython3",
      "version": "3.11.4"
    }
  },
  "nbformat": 4,
  "nbformat_minor": 0
}
