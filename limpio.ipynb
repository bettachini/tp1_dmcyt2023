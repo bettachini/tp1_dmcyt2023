{
 "cells": [
  {
   "cell_type": "markdown",
   "id": "c0532add-b205-4ef2-ad5d-d73e06fd227e",
   "metadata": {
    "id": "9Nv8KiHKfvNX"
   },
   "source": [
    "# TP 1 | Clustering de imágenes"
   ]
  },
  {
   "cell_type": "markdown",
   "id": "351ea2d8-cd3a-4c60-b531-38537dc6c87b",
   "metadata": {
    "id": "TODMfYelUnoD"
   },
   "source": [
    "\n",
    "![img.jpeg](data:image/jpeg;base64,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)"
   ]
  },
  {
   "cell_type": "markdown",
   "id": "7843d4f4-81ec-4052-95a2-dd60ad33d92e",
   "metadata": {
    "id": "E_dFomuTUrpq"
   },
   "source": [
    "_Data mining en Ciencia y Tecnología_  \n",
    "2do cuatrimestre 2023"
   ]
  },
  {
   "cell_type": "markdown",
   "id": "ced4fdcd",
   "metadata": {},
   "source": [
    "## Importación de bibliotecas "
   ]
  },
  {
   "cell_type": "code",
   "execution_count": 1,
   "id": "8ac32b7c-857c-45db-9498-2da471d81b5a",
   "metadata": {},
   "outputs": [],
   "source": [
    "# bibliotecas (libraries) incorporadas (built-in) de Python\n",
    "import os\n",
    "from random import randint\n",
    "# Para cargar solo una vez las bibliotecas detecta si es la primer ejecución del cuaderno\n",
    "try:\n",
    "    os.getegid()\n",
    "    firstrun = False\n",
    "except:\n",
    "    firstrun = True"
   ]
  },
  {
   "cell_type": "code",
   "execution_count": 2,
   "id": "174f281d",
   "metadata": {},
   "outputs": [
    {
     "name": "stderr",
     "output_type": "stream",
     "text": [
      "2023-09-26 08:03:08.925129: I tensorflow/core/platform/cpu_feature_guard.cc:182] This TensorFlow binary is optimized to use available CPU instructions in performance-critical operations.\n",
      "To enable the following instructions: FMA, in other operations, rebuild TensorFlow with the appropriate compiler flags.\n",
      "2023-09-26 08:03:20.995687: W tensorflow/compiler/tf2tensorrt/utils/py_utils.cc:38] TF-TRT Warning: Could not find TensorRT\n"
     ]
    }
   ],
   "source": [
    "if (firstrun):\n",
    "    try:\n",
    "        from tensorflow.keras.utils  import load_img\n",
    "    except:\n",
    "        ! pip install tensorflow\n",
    "        ! pip install tensorrt\n",
    "        from tensorflow.keras.utils  import load_img\n",
    "\n",
    "from tensorflow.keras.utils  import load_img\n",
    "# for loading/processing the images\n",
    "# from keras.preprocessing.image import load_img\n",
    "from tensorflow.keras.utils  import load_img\n",
    "#from keras.preprocessing.image import img_to_array\n",
    "from tensorflow.keras.utils import img_to_array"
   ]
  },
  {
   "cell_type": "markdown",
   "id": "834a119d",
   "metadata": {},
   "source": [
    "¿Por qué `tensorflow.keras` y `keras`?  \n",
    "[Stack overflow | keras vs. tensorflow.python.keras - which one to use?](https://stackoverflow.com/questions/48893528/keras-vs-tensorflow-python-keras-which-one-to-use)\n",
    "> tensorflow.python.keras is just a bundle of keras with a single backend inside tensorflow package. This allows you to start using keras by installing just pip install tensorflow.\n",
    "> \n",
    "> keras package contains full keras library with three supported backends: tensorflow, theano and CNTK. If you even wish to switch between backends, you should choose keras package. This approach is also more flexible because it allows to install keras updates independently from tensorflow (which may not be easy to update, for example, because the next version may require a different version of CUDA driver) or vice versa. For this reason, I prefer to install keras as another package."
   ]
  },
  {
   "cell_type": "code",
   "execution_count": 3,
   "id": "d5f34933",
   "metadata": {},
   "outputs": [
    {
     "name": "stderr",
     "output_type": "stream",
     "text": [
      "2023-09-26 08:03:35.009686: I tensorflow/compiler/xla/stream_executor/cuda/cuda_gpu_executor.cc:995] successful NUMA node read from SysFS had negative value (-1), but there must be at least one NUMA node, so returning NUMA node zero. See more at https://github.com/torvalds/linux/blob/v6.0/Documentation/ABI/testing/sysfs-bus-pci#L344-L355\n",
      "2023-09-26 08:03:36.222786: W tensorflow/core/common_runtime/gpu/gpu_device.cc:1960] Cannot dlopen some GPU libraries. Please make sure the missing libraries mentioned above are installed properly if you would like to use GPU. Follow the guide at https://www.tensorflow.org/install/gpu for how to download and setup the required libraries for your platform.\n",
      "Skipping registering GPU devices...\n"
     ]
    }
   ],
   "source": [
    "if (firstrun):\n",
    "    try:\n",
    "        from keras.models import Model\n",
    "    except:\n",
    "        ! pip install keras\n",
    "        from keras.models import Model\n",
    "\n",
    "from keras.models import Model\n",
    "# Tensorflow model\n",
    "from keras.applications.vgg16 import preprocess_input\n",
    "from keras.applications.vgg16 import VGG16\n",
    "model = VGG16()\n",
    "model = Model(inputs = model.inputs, outputs = model.layers[-2].output)"
   ]
  },
  {
   "cell_type": "markdown",
   "id": "93571dee",
   "metadata": {},
   "source": [
    "Juan: Toma la capa -2 (output), la ante-última.\n",
    "Cosas por hacer (probar)\n",
    "- Probar con otra capa intermedia (no la terminal)\n",
    "  - No es la última, más abstracta, sino tal vez una anterior"
   ]
  },
  {
   "cell_type": "code",
   "execution_count": 4,
   "id": "36d88c5f",
   "metadata": {},
   "outputs": [],
   "source": [
    "if (firstrun):\n",
    "  try:\n",
    "    # clustering and dimension reduction\n",
    "    from sklearn.cluster import KMeans\n",
    "  except:\n",
    "    ! pip install scikit-learn\n",
    "    from sklearn.cluster import KMeans\n",
    "\n",
    "from sklearn.cluster import KMeans\n",
    "from sklearn.decomposition import PCA"
   ]
  },
  {
   "cell_type": "code",
   "execution_count": 5,
   "id": "130f6ec3",
   "metadata": {},
   "outputs": [],
   "source": [
    "if (firstrun):\n",
    "  try:\n",
    "    import numpy as np\n",
    "  except:\n",
    "    ! pip install numpy\n",
    "    import numpy as np\n",
    "\n",
    "import numpy as np"
   ]
  },
  {
   "cell_type": "code",
   "execution_count": 6,
   "id": "5dca7e27",
   "metadata": {},
   "outputs": [],
   "source": [
    "if (firstrun):\n",
    "  try:\n",
    "    import matplotlib.pyplot as plt\n",
    "  except:\n",
    "    ! pip install matlplotlib\n",
    "    import matplotlib.pyplot as plt\n",
    "\n",
    "import matplotlib.pyplot as plt"
   ]
  },
  {
   "cell_type": "markdown",
   "id": "d514ba50",
   "metadata": {},
   "source": [
    "## Funciones provistas por los docentes"
   ]
  },
  {
   "cell_type": "code",
   "execution_count": 7,
   "id": "c40c04f7",
   "metadata": {},
   "outputs": [],
   "source": [
    "def preprocess(lista, model):\n",
    "    datays = {}\n",
    "    for i in lista:\n",
    "      featuress = extract_features(i, model)\n",
    "      datays[i] = featuress\n",
    "    # lista de filenames\n",
    "    filenmss = np.array(list(datays.keys()))\n",
    "\n",
    "    # lista de features\n",
    "    featsss = np.array(list(datays.values()))\n",
    "\n",
    "    # reshape 4096 features por el número de imagens\n",
    "    print(featsss.shape)\n",
    "    featsss = featsss.reshape(-1,4096)\n",
    "    return filenmss, featsss"
   ]
  },
  {
   "cell_type": "code",
   "execution_count": 8,
   "id": "78e8ff3d",
   "metadata": {},
   "outputs": [],
   "source": [
    "def extract_features(file, model):\n",
    "    # levanta imagen como array 224x224\n",
    "    img = load_img(file, target_size=(224,224))\n",
    "    # convierte img a numpy array (originalmente es 'PIL.Image.Image')\n",
    "    img = np.array(img)\n",
    "    # reshape para tener formato necesario para el modelo (num_of_samples, dim 1, dim 2, channels)\n",
    "    reshaped_img = img.reshape(1,224,224,3)\n",
    "    # prepara imagen para modelo (función de keras)\n",
    "    imgx = preprocess_input(reshaped_img)\n",
    "    # extrae features\n",
    "    features = model.predict(imgx, use_multiprocessing=True)\n",
    "    return features"
   ]
  },
  {
   "cell_type": "code",
   "execution_count": 9,
   "id": "659bc21a",
   "metadata": {},
   "outputs": [],
   "source": [
    "# function that lets you view a cluster (based on identifier)\n",
    "def view_cluster(gps,cluster):\n",
    "    plt.figure(figsize = (25,25));\n",
    "    # gets the list of filenames for a cluster\n",
    "    files = gps\n",
    "    # only allow up to 30 images to be shown at a time\n",
    "    if len(files) > 10:\n",
    "        print(f\"Clipping cluster size from {len(files)} to 10\")\n",
    "        files = files[:9]\n",
    "    # plot each image in the cluster\n",
    "    for index, file in enumerate(files):\n",
    "        plt.subplot(1,10,index+1);\n",
    "        img = load_img(file)\n",
    "        img = np.array(img)\n",
    "        plt.imshow(img)\n",
    "        plt.title('Cluster n:' + str(cluster))\n",
    "        plt.axis('off')"
   ]
  },
  {
   "cell_type": "markdown",
   "id": "7b05cc7a",
   "metadata": {},
   "source": [
    "## Carga local y coalescencia en única lista"
   ]
  },
  {
   "cell_type": "markdown",
   "id": "10f56599",
   "metadata": {},
   "source": [
    "### Directorio del conjuno de datos"
   ]
  },
  {
   "cell_type": "code",
   "execution_count": 10,
   "id": "57b84edc",
   "metadata": {},
   "outputs": [
    {
     "name": "stdout",
     "output_type": "stream",
     "text": [
      "local\n"
     ]
    }
   ],
   "source": [
    "# if (firstrun):\n",
    "if('google.colab' in str(get_ipython() ) ):\n",
    "    environment= 'google'\n",
    "else:\n",
    "    import os\n",
    "    if (os.environ.get('PWD')=='/kaggle/working'):\n",
    "        environment= 'kaggle'\n",
    "    else:\n",
    "        environment= 'local'\n",
    "print(environment)"
   ]
  },
  {
   "cell_type": "code",
   "execution_count": 31,
   "id": "216858b3",
   "metadata": {},
   "outputs": [],
   "source": [
    "# Directorio del conjunto de datos\n",
    "# Cambiar el local\n",
    "\n",
    "# if (firstrun):\n",
    "# path2 = 'datasets/Rice_Image_Dataset'\n",
    "if( environment== 'local' ):\n",
    "    datase_path = '/home/vbettachini/documents/universitet/FCEyN/maestríaDatos/cienciaTecnología/tp1_dmcyt2023/datasets/Rice_Image_Dataset/'\n",
    "elif( ( environment== 'google' ) ):\n",
    "    from google.colab import drive\n",
    "    drive.mount('/content/drive')\n",
    "    dataset_path = \"/content/drive/MyDrive/maestría/cienciaTecnología/datasets/tp1_dmcyt2023/Rice_Image_Dataset\"\n",
    "elif( ( environment== 'kaggle' ) )  :\n",
    "    dataset_path = \"/kaggle/input/rice-image-dataset/Rice_Image_Dataset\""
   ]
  },
  {
   "cell_type": "markdown",
   "id": "dca3d682",
   "metadata": {},
   "source": [
    "## Generación del archivo de etiquetas"
   ]
  },
  {
   "cell_type": "code",
   "execution_count": null,
   "id": "31aa4ca2",
   "metadata": {},
   "outputs": [
    {
     "name": "stdout",
     "output_type": "stream",
     "text": [
      "['Basmati', 'Ipsala', 'Arborio', 'Karacadag', 'Jasmine']\n"
     ]
    }
   ],
   "source": [
    "# Tomado de https://www.kaggle.com/code/gustavo9898/pytorch-rice-image-classification\n",
    "classes = []\n",
    "for folder in os.listdir(dataset_path):\n",
    "    folder_path = os.path.join(dataset_path, folder)\n",
    "    if os.path.isdir(folder_path):  # Check if it's a directory\n",
    "        classes.append(folder)\n",
    "print(classes)"
   ]
  },
  {
   "cell_type": "code",
   "execution_count": 39,
   "id": "d0861ec7",
   "metadata": {},
   "outputs": [],
   "source": [
    "# Crear un archivo de texto para almacenar la información de todos los archivos\n",
    "with open(dataset_path + '/rice_labels.txt', 'w') as dataset_file:\n",
    "  # Encabezado\n",
    "  dataset_file.write('file,label\\n')\n",
    "\n",
    "  # Recorrer cada directorio (clase)\n",
    "  for clase in classes:\n",
    "    # Obtener la ruta completa de la directorio de la clase\n",
    "    directorio_clase = os.path.join(dataset_path, clase)\n",
    "\n",
    "    # Verificar si es una directorio\n",
    "    if os.path.isdir(directorio_clase):\n",
    "      # Obtener la lista de archivos en la directorio de la clase\n",
    "      archivos = os.listdir(directorio_clase)\n",
    "\n",
    "      # Escribir los nombres de los archivos en el archivo de texto\n",
    "      for archivo in archivos:\n",
    "        # Escribir el nombre del archivo y la clase en el archivo dataset\n",
    "        dataset_file.write(f'{archivo}, {clase}\\n')\n"
   ]
  },
  {
   "cell_type": "markdown",
   "id": "9fc19afb",
   "metadata": {},
   "source": [
    "### Carga unificada"
   ]
  },
  {
   "cell_type": "code",
   "execution_count": null,
   "id": "0fd94821",
   "metadata": {},
   "outputs": [
    {
     "name": "stdout",
     "output_type": "stream",
     "text": [
      "15000\n",
      "/home/vbettachini/documents/universitet/FCEyN/maestríaDatos/cienciaTecnología/tp1_dmcyt2023/datasets/Rice_Image_Dataset/Arborio/Arborio (1).jpg\n"
     ]
    }
   ],
   "source": [
    "# Arborio\n",
    "image_path = DIR + path2\n",
    "image_path\n",
    "path = sorted(\n",
    "  [\n",
    "    os.path.join(image_path, file)\n",
    "    for file in os.listdir(image_path )\n",
    "    if file.endswith('.jpg')\n",
    "  ]\n",
    ")\n",
    "print(len(path))\n",
    "print(path[0])"
   ]
  },
  {
   "cell_type": "code",
   "execution_count": null,
   "id": "7ef641da",
   "metadata": {},
   "outputs": [
    {
     "data": {
      "text/plain": [
       "'Karacadag'"
      ]
     },
     "metadata": {},
     "output_type": "display_data"
    }
   ],
   "source": [
    "ca = 'Karacadag (3981).jpg'\n",
    "ca.split(' ')[0]"
   ]
  },
  {
   "cell_type": "markdown",
   "id": "6e0bcc26",
   "metadata": {},
   "source": [
    "## Carga de imágenes desde github"
   ]
  },
  {
   "cell_type": "markdown",
   "id": "c6d22b16-e4ae-4cef-96b7-0ce07a95b9e5",
   "metadata": {},
   "source": [
    "Tener el conjunto de datos (dataset) en un repositorio en GitHub ahorra tener que cambiar el sendero (path) hacia el mismo según en que plataforma se ejecute el cuaderno (notebook)."
   ]
  },
  {
   "cell_type": "code",
   "execution_count": 10,
   "id": "3a05a9ae",
   "metadata": {},
   "outputs": [],
   "source": [
    "from urllib.request import urlopen\n",
    "import urllib.parse"
   ]
  },
  {
   "cell_type": "code",
   "execution_count": 11,
   "id": "66fc537a-11c1-4de2-8185-84e6c4fdd799",
   "metadata": {},
   "outputs": [
    {
     "ename": "TypeError",
     "evalue": "path should be path-like or io.BytesIO, not <class 'http.client.HTTPResponse'>",
     "output_type": "error",
     "traceback": [
      "\u001b[0;31m---------------------------------------------------------------------------\u001b[0m",
      "\u001b[0;31mTypeError\u001b[0m                                 Traceback (most recent call last)",
      "Cell \u001b[0;32mIn[11], line 6\u001b[0m\n\u001b[1;32m      4\u001b[0m image_url \u001b[38;5;241m=\u001b[39m path \u001b[38;5;241m+\u001b[39m \u001b[38;5;124m\"\u001b[39m\u001b[38;5;124mArborio (1).jpg\u001b[39m\u001b[38;5;124m\"\u001b[39m\n\u001b[1;32m      5\u001b[0m encoded_url \u001b[38;5;241m=\u001b[39m urllib\u001b[38;5;241m.\u001b[39mparse\u001b[38;5;241m.\u001b[39mquote(image_url, safe\u001b[38;5;241m=\u001b[39m\u001b[38;5;124m\"\u001b[39m\u001b[38;5;124m:/\u001b[39m\u001b[38;5;124m\"\u001b[39m)\n\u001b[0;32m----> 6\u001b[0m eins \u001b[38;5;241m=\u001b[39m \u001b[43mload_img\u001b[49m\u001b[43m(\u001b[49m\u001b[43murlopen\u001b[49m\u001b[43m \u001b[49m\u001b[43m(\u001b[49m\u001b[43m \u001b[49m\u001b[43mencoded_url\u001b[49m\u001b[43m \u001b[49m\u001b[43m)\u001b[49m\u001b[43m \u001b[49m\u001b[43m)\u001b[49m\n",
      "File \u001b[0;32m~/bin/jupyter/lib/python3.11/site-packages/keras/src/utils/image_utils.py:425\u001b[0m, in \u001b[0;36mload_img\u001b[0;34m(path, grayscale, color_mode, target_size, interpolation, keep_aspect_ratio)\u001b[0m\n\u001b[1;32m    423\u001b[0m         img \u001b[38;5;241m=\u001b[39m pil_image\u001b[38;5;241m.\u001b[39mopen(io\u001b[38;5;241m.\u001b[39mBytesIO(f\u001b[38;5;241m.\u001b[39mread()))\n\u001b[1;32m    424\u001b[0m \u001b[38;5;28;01melse\u001b[39;00m:\n\u001b[0;32m--> 425\u001b[0m     \u001b[38;5;28;01mraise\u001b[39;00m \u001b[38;5;167;01mTypeError\u001b[39;00m(\n\u001b[1;32m    426\u001b[0m         \u001b[38;5;124mf\u001b[39m\u001b[38;5;124m\"\u001b[39m\u001b[38;5;124mpath should be path-like or io.BytesIO, not \u001b[39m\u001b[38;5;132;01m{\u001b[39;00m\u001b[38;5;28mtype\u001b[39m(path)\u001b[38;5;132;01m}\u001b[39;00m\u001b[38;5;124m\"\u001b[39m\n\u001b[1;32m    427\u001b[0m     )\n\u001b[1;32m    429\u001b[0m \u001b[38;5;28;01mif\u001b[39;00m color_mode \u001b[38;5;241m==\u001b[39m \u001b[38;5;124m\"\u001b[39m\u001b[38;5;124mgrayscale\u001b[39m\u001b[38;5;124m\"\u001b[39m:\n\u001b[1;32m    430\u001b[0m     \u001b[38;5;66;03m# if image is not already an 8-bit, 16-bit or 32-bit grayscale image\u001b[39;00m\n\u001b[1;32m    431\u001b[0m     \u001b[38;5;66;03m# convert it to an 8-bit grayscale image.\u001b[39;00m\n\u001b[1;32m    432\u001b[0m     \u001b[38;5;28;01mif\u001b[39;00m img\u001b[38;5;241m.\u001b[39mmode \u001b[38;5;129;01mnot\u001b[39;00m \u001b[38;5;129;01min\u001b[39;00m (\u001b[38;5;124m\"\u001b[39m\u001b[38;5;124mL\u001b[39m\u001b[38;5;124m\"\u001b[39m, \u001b[38;5;124m\"\u001b[39m\u001b[38;5;124mI;16\u001b[39m\u001b[38;5;124m\"\u001b[39m, \u001b[38;5;124m\"\u001b[39m\u001b[38;5;124mI\u001b[39m\u001b[38;5;124m\"\u001b[39m):\n",
      "\u001b[0;31mTypeError\u001b[0m: path should be path-like or io.BytesIO, not <class 'http.client.HTTPResponse'>"
     ]
    }
   ],
   "source": [
    "# cargar desde github imgágenes usando load_img\n",
    "# path es un URL en github\n",
    "path = \"https://github.com/bettachini/tp1_dmcyt2023/blob/31015882beb672c9f86d515b41f0a73fa4788078/datasets/Rice_Image_Dataset/Arborio/\"\n",
    "image_url = path + \"Arborio (1).jpg\"\n",
    "encoded_url = urllib.parse.quote(image_url, safe=\":/\")\n",
    "eins = load_img(urlopen ( encoded_url ) )"
   ]
  },
  {
   "cell_type": "code",
   "execution_count": 12,
   "id": "0104e058",
   "metadata": {},
   "outputs": [
    {
     "data": {
      "text/plain": [
       "'https://github.com/bettachini/tp1_dmcyt2023/blob/31015882beb672c9f86d515b41f0a73fa4788078/datasets/Rice_Image_Dataset/Arborio/Arborio%20%281%29.jpg'"
      ]
     },
     "execution_count": 12,
     "metadata": {},
     "output_type": "execute_result"
    }
   ],
   "source": [
    "encoded_url"
   ]
  },
  {
   "cell_type": "markdown",
   "id": "571ecfe8",
   "metadata": {},
   "source": [
    "## Ideas"
   ]
  },
  {
   "cell_type": "markdown",
   "id": "337673ae",
   "metadata": {},
   "source": [
    "- Cargar los cinco paths por separado -> crear una única fuenta si es lo que necesita Keras\n",
    "- Crear archivo de labels tomando los nombres de archivo "
   ]
  }
 ],
 "metadata": {
  "kernelspec": {
   "display_name": "Python 3 (ipykernel)",
   "language": "python",
   "name": "python3"
  },
  "language_info": {
   "codemirror_mode": {
    "name": "ipython",
    "version": 3
   },
   "file_extension": ".py",
   "mimetype": "text/x-python",
   "name": "python",
   "nbconvert_exporter": "python",
   "pygments_lexer": "ipython3",
   "version": "3.11.2"
  }
 },
 "nbformat": 4,
 "nbformat_minor": 5
}
