{
 "cells": [
  {
   "cell_type": "markdown",
   "metadata": {},
   "source": [
    "## Importación de bibliotecas "
   ]
  },
  {
   "cell_type": "code",
   "execution_count": 2,
   "metadata": {},
   "outputs": [
    {
     "name": "stdout",
     "output_type": "stream",
     "text": [
      "local\n"
     ]
    }
   ],
   "source": [
    "# Entorno de ejecución\n",
    "\n",
    "# if (firstrun):\n",
    "if('google.colab' in str(get_ipython() ) ):\n",
    "    environment= 'google'\n",
    "else:\n",
    "    import os\n",
    "    if (os.environ.get('PWD')=='/kaggle/working'):\n",
    "        environment= 'kaggle'\n",
    "    else:\n",
    "        environment= 'local'\n",
    "print(environment)"
   ]
  },
  {
   "cell_type": "markdown",
   "metadata": {},
   "source": [
    "## Carga de datos"
   ]
  },
  {
   "cell_type": "code",
   "execution_count": 3,
   "metadata": {},
   "outputs": [],
   "source": [
    "# Directorio base ( cambiar según el sistema de archivos de cada uno)\n",
    "# if (firstrun):\n",
    "if( environment== 'local' ):\n",
    "    # system_path = \"C:/Users/vanes/Documents/UBA/2do_cuatrimestre/DMCyT/TP/\"\n",
    "    system_path = '/home/vbettachini/documents/universitet/FCEyN/maestríaDatos/cienciaTecnología/'\n",
    "elif( ( environment== 'google' ) ): \n",
    "    from google.colab import drive\n",
    "    drive.mount('/content/drive')\n",
    "    system_path = \"/content/drive/MyDrive/maestría/cienciaTecnología/\"\n",
    "elif( ( environment== 'kaggle' ) )  :\n",
    "    a= 1\n",
    "\n",
    "# Directorio del dataset\n",
    "dataset_path = system_path + \"tp1_dmcyt2023/datasets/Rice_Image_Dataset\""
   ]
  },
  {
   "cell_type": "code",
   "execution_count": 4,
   "metadata": {},
   "outputs": [],
   "source": [
    "# Path a subset imágenes generado por `random_sample_rice_images.ipynb`\n",
    "image_path = dataset_path + \"/random_sample_rice_images\""
   ]
  },
  {
   "cell_type": "code",
   "execution_count": 6,
   "metadata": {},
   "outputs": [],
   "source": [
    "import numpy as np"
   ]
  },
  {
   "cell_type": "code",
   "execution_count": 24,
   "metadata": {},
   "outputs": [
    {
     "data": {
      "text/plain": [
       "['feat', 'names']"
      ]
     },
     "execution_count": 24,
     "metadata": {},
     "output_type": "execute_result"
    }
   ],
   "source": [
    "data = np.load(image_path + '/vgg16output.npz')\n",
    "data.files"
   ]
  },
  {
   "cell_type": "code",
   "execution_count": 26,
   "metadata": {},
   "outputs": [],
   "source": [
    "names = data['names']\n",
    "feat = data['feat']"
   ]
  },
  {
   "cell_type": "markdown",
   "metadata": {},
   "source": [
    "## PCA"
   ]
  },
  {
   "cell_type": "code",
   "execution_count": 29,
   "metadata": {},
   "outputs": [],
   "source": [
    "import pandas as pd"
   ]
  },
  {
   "cell_type": "code",
   "execution_count": 30,
   "metadata": {},
   "outputs": [],
   "source": [
    "# get the unique labels (from the flower_labels.csv)\n",
    "df = pd.read_csv(image_path + '/random_sample_rice_labels.csv')\n",
    "label = df['label'].tolist()\n",
    "unique_labels = list(set(label))"
   ]
  },
  {
   "cell_type": "code",
   "execution_count": 33,
   "metadata": {},
   "outputs": [],
   "source": [
    "# if (firstrun):\n",
    "try:\n",
    "  # clustering and dimension reduction\n",
    "  from sklearn.decomposition import PCA\n",
    "except:\n",
    "  ! pip install scikit-learn\n",
    "  from sklearn.decomposition import PCA"
   ]
  },
  {
   "cell_type": "code",
   "execution_count": 34,
   "metadata": {},
   "outputs": [],
   "source": [
    "# reduce the amount of dimensions in the feature vector\n",
    "pca = PCA(n_components=100, random_state=22)\n",
    "pca.fit(feat)\n",
    "x = pca.transform(feat)"
   ]
  },
  {
   "cell_type": "code",
   "execution_count": 35,
   "metadata": {},
   "outputs": [
    {
     "name": "stdout",
     "output_type": "stream",
     "text": [
      "Components before PCA: 4096\n",
      "Components after PCA: 100\n"
     ]
    }
   ],
   "source": [
    "print(f\"Components before PCA: {feat.shape[1]}\")\n",
    "print(f\"Components after PCA: {pca.n_components}\")"
   ]
  },
  {
   "cell_type": "code",
   "execution_count": null,
   "metadata": {},
   "outputs": [],
   "source": []
  }
 ],
 "metadata": {
  "kernelspec": {
   "display_name": "jupyter",
   "language": "python",
   "name": "python3"
  },
  "language_info": {
   "codemirror_mode": {
    "name": "ipython",
    "version": 3
   },
   "file_extension": ".py",
   "mimetype": "text/x-python",
   "name": "python",
   "nbconvert_exporter": "python",
   "pygments_lexer": "ipython3",
   "version": "3.11.2"
  },
  "orig_nbformat": 4
 },
 "nbformat": 4,
 "nbformat_minor": 2
}
